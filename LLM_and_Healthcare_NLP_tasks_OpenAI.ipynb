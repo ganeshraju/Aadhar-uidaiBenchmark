{
  "cells": [
    {
      "cell_type": "markdown",
      "metadata": {
        "id": "view-in-github",
        "colab_type": "text"
      },
      "source": [
        "<a href=\"https://colab.research.google.com/github/ganeshraju/Aadhar-uidaiBenchmark/blob/master/LLM_and_Healthcare_NLP_tasks_OpenAI.ipynb\" target=\"_parent\"><img src=\"https://colab.research.google.com/assets/colab-badge.svg\" alt=\"Open In Colab\"/></a>"
      ]
    },
    {
      "cell_type": "markdown",
      "metadata": {
        "id": "b-iLoviv7Zzm"
      },
      "source": [
        "**This notebook demonstrates toy examples of LLM Use cases in Healthcare using  OpenAI API. This is an experiment/prototype of ideas not a formal evaluation of the APIs or production code**"
      ]
    },
    {
      "cell_type": "markdown",
      "metadata": {
        "id": "javKxQXhbAnN"
      },
      "source": [
        "# Install Libraries"
      ]
    },
    {
      "cell_type": "code",
      "execution_count": null,
      "metadata": {
        "colab": {
          "base_uri": "https://localhost:8080/"
        },
        "id": "3bxNQk7BIjMx",
        "outputId": "c04a4d50-bc4e-4f5d-b75d-eab893246120"
      },
      "outputs": [
        {
          "name": "stdout",
          "output_type": "stream",
          "text": [
            "Looking in indexes: https://pypi.org/simple, https://us-python.pkg.dev/colab-wheels/public/simple/\n",
            "Collecting openai\n",
            "  Downloading openai-0.27.8-py3-none-any.whl (73 kB)\n",
            "\u001b[2K     \u001b[90m━━━━━━━━━━━━━━━━━━━━━━━━━━━━━━━━━━━━━━━━\u001b[0m \u001b[32m73.6/73.6 kB\u001b[0m \u001b[31m4.0 MB/s\u001b[0m eta \u001b[36m0:00:00\u001b[0m\n",
            "\u001b[?25hRequirement already satisfied: requests>=2.20 in /usr/local/lib/python3.10/dist-packages (from openai) (2.27.1)\n",
            "Requirement already satisfied: tqdm in /usr/local/lib/python3.10/dist-packages (from openai) (4.65.0)\n",
            "Collecting aiohttp (from openai)\n",
            "  Downloading aiohttp-3.8.4-cp310-cp310-manylinux_2_17_x86_64.manylinux2014_x86_64.whl (1.0 MB)\n",
            "\u001b[2K     \u001b[90m━━━━━━━━━━━━━━━━━━━━━━━━━━━━━━━━━━━━━━━━\u001b[0m \u001b[32m1.0/1.0 MB\u001b[0m \u001b[31m32.1 MB/s\u001b[0m eta \u001b[36m0:00:00\u001b[0m\n",
            "\u001b[?25hRequirement already satisfied: urllib3<1.27,>=1.21.1 in /usr/local/lib/python3.10/dist-packages (from requests>=2.20->openai) (1.26.15)\n",
            "Requirement already satisfied: certifi>=2017.4.17 in /usr/local/lib/python3.10/dist-packages (from requests>=2.20->openai) (2022.12.7)\n",
            "Requirement already satisfied: charset-normalizer~=2.0.0 in /usr/local/lib/python3.10/dist-packages (from requests>=2.20->openai) (2.0.12)\n",
            "Requirement already satisfied: idna<4,>=2.5 in /usr/local/lib/python3.10/dist-packages (from requests>=2.20->openai) (3.4)\n",
            "Requirement already satisfied: attrs>=17.3.0 in /usr/local/lib/python3.10/dist-packages (from aiohttp->openai) (23.1.0)\n",
            "Collecting multidict<7.0,>=4.5 (from aiohttp->openai)\n",
            "  Downloading multidict-6.0.4-cp310-cp310-manylinux_2_17_x86_64.manylinux2014_x86_64.whl (114 kB)\n",
            "\u001b[2K     \u001b[90m━━━━━━━━━━━━━━━━━━━━━━━━━━━━━━━━━━━━━━\u001b[0m \u001b[32m114.5/114.5 kB\u001b[0m \u001b[31m14.3 MB/s\u001b[0m eta \u001b[36m0:00:00\u001b[0m\n",
            "\u001b[?25hCollecting async-timeout<5.0,>=4.0.0a3 (from aiohttp->openai)\n",
            "  Downloading async_timeout-4.0.2-py3-none-any.whl (5.8 kB)\n",
            "Collecting yarl<2.0,>=1.0 (from aiohttp->openai)\n",
            "  Downloading yarl-1.9.2-cp310-cp310-manylinux_2_17_x86_64.manylinux2014_x86_64.whl (268 kB)\n",
            "\u001b[2K     \u001b[90m━━━━━━━━━━━━━━━━━━━━━━━━━━━━━━━━━━━━━━\u001b[0m \u001b[32m268.8/268.8 kB\u001b[0m \u001b[31m27.1 MB/s\u001b[0m eta \u001b[36m0:00:00\u001b[0m\n",
            "\u001b[?25hCollecting frozenlist>=1.1.1 (from aiohttp->openai)\n",
            "  Downloading frozenlist-1.3.3-cp310-cp310-manylinux_2_5_x86_64.manylinux1_x86_64.manylinux_2_17_x86_64.manylinux2014_x86_64.whl (149 kB)\n",
            "\u001b[2K     \u001b[90m━━━━━━━━━━━━━━━━━━━━━━━━━━━━━━━━━━━━━━\u001b[0m \u001b[32m149.6/149.6 kB\u001b[0m \u001b[31m15.5 MB/s\u001b[0m eta \u001b[36m0:00:00\u001b[0m\n",
            "\u001b[?25hCollecting aiosignal>=1.1.2 (from aiohttp->openai)\n",
            "  Downloading aiosignal-1.3.1-py3-none-any.whl (7.6 kB)\n",
            "Installing collected packages: multidict, frozenlist, async-timeout, yarl, aiosignal, aiohttp, openai\n",
            "Successfully installed aiohttp-3.8.4 aiosignal-1.3.1 async-timeout-4.0.2 frozenlist-1.3.3 multidict-6.0.4 openai-0.27.8 yarl-1.9.2\n",
            "Looking in indexes: https://pypi.org/simple, https://us-python.pkg.dev/colab-wheels/public/simple/\n",
            "Collecting python-dotenv\n",
            "  Downloading python_dotenv-1.0.0-py3-none-any.whl (19 kB)\n",
            "Installing collected packages: python-dotenv\n",
            "Successfully installed python-dotenv-1.0.0\n",
            "Looking in indexes: https://pypi.org/simple, https://us-python.pkg.dev/colab-wheels/public/simple/\n",
            "Collecting langchain\n",
            "  Downloading langchain-0.0.199-py3-none-any.whl (1.0 MB)\n",
            "\u001b[2K     \u001b[90m━━━━━━━━━━━━━━━━━━━━━━━━━━━━━━━━━━━━━━━━\u001b[0m \u001b[32m1.0/1.0 MB\u001b[0m \u001b[31m28.6 MB/s\u001b[0m eta \u001b[36m0:00:00\u001b[0m\n",
            "\u001b[?25hRequirement already satisfied: PyYAML>=5.4.1 in /usr/local/lib/python3.10/dist-packages (from langchain) (6.0)\n",
            "Requirement already satisfied: SQLAlchemy<3,>=1.4 in /usr/local/lib/python3.10/dist-packages (from langchain) (2.0.10)\n",
            "Requirement already satisfied: aiohttp<4.0.0,>=3.8.3 in /usr/local/lib/python3.10/dist-packages (from langchain) (3.8.4)\n",
            "Requirement already satisfied: async-timeout<5.0.0,>=4.0.0 in /usr/local/lib/python3.10/dist-packages (from langchain) (4.0.2)\n",
            "Collecting dataclasses-json<0.6.0,>=0.5.7 (from langchain)\n",
            "  Downloading dataclasses_json-0.5.8-py3-none-any.whl (26 kB)\n"
          ]
        }
      ],
      "source": [
        "!pip install openai\n",
        "!pip install python-dotenv\n",
        "!pip install --upgrade langchain"
      ]
    },
    {
      "cell_type": "markdown",
      "metadata": {
        "id": "y774ntTUa855"
      },
      "source": []
    },
    {
      "cell_type": "markdown",
      "metadata": {
        "id": "PDtybrsz7hV7"
      },
      "source": [
        "#Setup"
      ]
    },
    {
      "cell_type": "code",
      "execution_count": null,
      "metadata": {
        "colab": {
          "base_uri": "https://localhost:8080/"
        },
        "id": "-kpV8WDb7UTU",
        "outputId": "1a09d8a2-43dd-4e48-890f-28ca8e451b3d"
      },
      "outputs": [
        {
          "data": {
            "text/plain": [
              "{'status': 'ok', 'restart': True}"
            ]
          },
          "execution_count": 2,
          "metadata": {},
          "output_type": "execute_result"
        }
      ],
      "source": [
        "import IPython\n",
        "app = IPython.Application.instance()\n",
        "app.kernel.do_shutdown(True)"
      ]
    },
    {
      "cell_type": "code",
      "execution_count": null,
      "metadata": {
        "id": "9d3yMoG_7GV_"
      },
      "outputs": [],
      "source": [
        "#Autneticate notebook environment. Required for Google Cloud\n",
        "import sys\n",
        "if \"google.colab\" in sys.modules:\n",
        "    from google.colab import auth\n",
        "    auth.authenticate_user()"
      ]
    },
    {
      "cell_type": "markdown",
      "metadata": {
        "id": "2d-kDqEZa4d6"
      },
      "source": []
    },
    {
      "cell_type": "code",
      "execution_count": null,
      "metadata": {
        "colab": {
          "background_save": true
        },
        "id": "MExwX-p9Gdnd"
      },
      "outputs": [],
      "source": [
        "import pandas as pd\n",
        "import openai\n",
        "import os\n",
        "import sys\n",
        "import re\n",
        "from langchain.document_loaders import GoogleDriveLoader\n",
        "from langchain.document_loaders import GCSDirectoryLoader\n",
        "from langchain.document_loaders import GCSFileLoader\n",
        "from langchain.document_loaders import BigQueryLoader\n",
        "\n",
        "# You may not need all the data sources . Choose whatever data source you want to use"
      ]
    },
    {
      "cell_type": "code",
      "execution_count": null,
      "metadata": {
        "colab": {
          "base_uri": "https://localhost:8080/"
        },
        "id": "O-TZP-QG4P4Y",
        "outputId": "9e583fa1-dec0-4bff-af70-92fe930290c7"
      },
      "outputs": [
        {
          "name": "stdout",
          "output_type": "stream",
          "text": [
            "Mounted at /content/drive/\n"
          ]
        }
      ],
      "source": [
        "from google.colab import drive\n",
        "drive.mount('/content/drive/')"
      ]
    },
    {
      "cell_type": "code",
      "execution_count": null,
      "metadata": {
        "id": "J1n-v-Sq1i4M"
      },
      "outputs": [],
      "source": [
        "# Store your API key in Google Drive file: openaiapi.txt . This is a secure way to use an API key that explicit API key in the notebook\n",
        "\n",
        "with open('/content/drive/My Drive/openaiapi.txt', 'r') as file:\n",
        "    OPENAI_API_KEY = file.read().strip()"
      ]
    },
    {
      "cell_type": "code",
      "execution_count": null,
      "metadata": {
        "id": "EgKtMBGKD3St"
      },
      "outputs": [],
      "source": [
        "openai.api_key = OPENAI_API_KEY\n",
        "completions_model = \"gpt-4\"\n",
        "embedding_model = \"text-embedding-ada-002\"\n",
        "embedding_encoding = \"cl100k_base\""
      ]
    },
    {
      "cell_type": "code",
      "execution_count": null,
      "metadata": {
        "id": "t0DCO8ONDymh"
      },
      "outputs": [],
      "source": [
        "# Helper function to call the model API\n",
        "# For Healthcare NLP tasks you may run into token limit as clinical notes are long.\n",
        "\n",
        "def get_completion(messages, model, temperature):\n",
        "    response = openai.ChatCompletion.create(\n",
        "        model=model,\n",
        "        messages=messages,\n",
        "        temperature= temperature,\n",
        "    )\n",
        "    content = response.choices[0].message[\"content\"]\n",
        "    return content"
      ]
    },
    {
      "cell_type": "markdown",
      "metadata": {
        "id": "RBK3P7xbZC-1"
      },
      "source": [
        "# Use Case #1 - NLP entity and context extractions"
      ]
    },
    {
      "cell_type": "markdown",
      "metadata": {
        "id": "WYUPlLpOE8o5"
      },
      "source": [
        "# Chain of Thought Reasoning to provide additional context in the NLP extractions"
      ]
    },
    {
      "cell_type": "code",
      "execution_count": null,
      "metadata": {
        "id": "522rLYbpxWoj"
      },
      "outputs": [],
      "source": [
        "text = f\"\"\"\n",
        " The patient is a 17-year-old female, who presents to the emergency room with foreign body and airway compromise and was taken to the operating room.  She was intubated and fishbone.\n",
        " \"\"\""
      ]
    },
    {
      "cell_type": "code",
      "execution_count": null,
      "metadata": {
        "id": "hym-IfPhtwRq"
      },
      "outputs": [],
      "source": [
        "system_message = f\"\"\"\n",
        "You are a Healthcare AI Assistant helping to extract entities and context from clinical text using the guidance stated below:\n",
        "1 - Entity Recognition: You will have entity categories: Person, Location, Age,Gender, Disease/Problem, Anatomical Structure,Symptoms,Procedure, Medications,\\\n",
        "Medical Devices, Lab Test, Substance Abuse, Social Determinants.\n",
        "\n",
        "2 - Entity Assertions: Probability of Assertions in extracted entities.Classify the assertions made on given medical concepts as being present, absent,\n",
        "or possible in the patient, conditionally present in the patient under certain circumstances, hypothetically present in the patient at some future point,\\\n",
        "and mentioned in the patient report but associated with someone other than the patient.In addition, perform Subject Asssessment. Differentiate between \\\n",
        "\"Patient\" Vs. \" Family Member\" in the text description.\n",
        "For example: \"John's father has diabetes\". Attach \"diabetes\" to assertion status: Family Member'\n",
        "Assertion Status: 1. Present, 2. Absent, 3. Possible, 4. Hypothetical, 5. Conditional, 6. Family\n",
        "\n",
        "3 - Temporal Assessment: Extract Date or Temporality of the entity and use these categorization:\n",
        "    Extract Actual Date if date is available in the text.\n",
        "In case where date is not available, assess temporality and categorize as:\n",
        "1. Current\n",
        "2. History\n",
        "3. Actual Date if date is available in the text\n",
        "\n",
        "Input Data: A 60 year old male with a history of type-2 diabetes, diagnosed 10 years ago, takes 500 mg metformmin.\n",
        "Output:\n",
        "{\n",
        "    {\n",
        "      \"Name\": \"60-year-old\",\n",
        "      \"Category\": \"Demographic Entity\",\n",
        "      \"Assertion Status\": \"Present\",\n",
        "      \"Temporality\": \"Current\"\n",
        "    },\n",
        "    {\n",
        "      \"Name\": \"male\",\n",
        "      \"Category\": \"Demographic Entity\",\n",
        "      \"Assertion Status\": \"Present\",\n",
        "      \"Temporality\": \"Current\"\n",
        "    },\n",
        "    {\n",
        "      \"Name\": \"type-2 diabetes\",\n",
        "      \"Category\": \"Disease/Problem\",\n",
        "      \"Assertion Status\": \"Present\",\n",
        "      \"Temporality\": \"10 years ago\"\n",
        "    },\n",
        "    {\n",
        "      \"Name\": \"metformin\",\n",
        "      \"Category\": \"medication\",\n",
        "      \"Assertion Status\": \"Present\",\n",
        "      \"Temporality\": \"Current\"\n",
        "    },\n",
        "}\n",
        "\"\"\""
      ]
    },
    {
      "cell_type": "markdown",
      "metadata": {
        "id": "5w09sfGcHQx5"
      },
      "source": [
        "# Prompt"
      ]
    },
    {
      "cell_type": "code",
      "execution_count": null,
      "metadata": {
        "id": "oHE35FRKYOdu"
      },
      "outputs": [],
      "source": [
        "# Initialize a prompt.\n",
        "prompt = f\"\"\"\n",
        "Perform the following actions. Lets think step by step and use the guidance provided. Take your time and try to answer accurately.\n",
        "1 -  Extract entities, classify, probability of assertions, assess temporality, and assess subject of the entity.\n",
        "2 - Output the json object that contains the following keys: Entity, Category, Subject, Temporality, Assertion Probability, Related Entities (multiple values)\n",
        "If the question cannot be answered using the information provided answer with “No entities found”\n",
        "text: {text}\n",
        "\"\"\"\n",
        "messages =  [\n",
        "{'role':'system',\n",
        " 'content': system_message},\n",
        "{'role':'user',\n",
        " 'content':prompt},\n",
        "]"
      ]
    },
    {
      "cell_type": "markdown",
      "metadata": {
        "id": "X7rsPe7twxJ8"
      },
      "source": [
        "# System Response: NLP Extraction"
      ]
    },
    {
      "cell_type": "code",
      "execution_count": null,
      "metadata": {
        "colab": {
          "base_uri": "https://localhost:8080/"
        },
        "id": "A_bhhjgVNtzX",
        "outputId": "1459116b-b6a2-4270-ad40-e309fab64bdb"
      },
      "outputs": [
        {
          "name": "stdout",
          "output_type": "stream",
          "text": [
            "1 - Extract entities, classify, assess negation probability, assess temporality, and assess subject of the entity:\n",
            "\n",
            "- Entity: 17-year-old female\n",
            "  Category: Demographic Entity\n",
            "  Subject: Patient\n",
            "  Temporality: Current\n",
            "  Negation Probability: N/A\n",
            "\n",
            "- Entity: foreign body\n",
            "  Category: Anatomical Structure\n",
            "  Subject: Patient\n",
            "  Temporality: Current\n",
            "  Negation Probability: N/A\n",
            "\n",
            "- Entity: airway compromise\n",
            "  Category: Disease/Problem\n",
            "  Subject: Patient\n",
            "  Temporality: Current\n",
            "  Negation Probability: N/A\n",
            "\n",
            "- Entity: operating room\n",
            "  Category: Procedures\n",
            "  Subject: Patient\n",
            "  Temporality: Current\n",
            "  Negation Probability: N/A\n",
            "\n",
            "- Entity: intubated\n",
            "  Category: Procedures\n",
            "  Subject: Patient\n",
            "  Temporality: Current\n",
            "  Negation Probability: N/A\n",
            "\n",
            "- Entity: fishbone\n",
            "  Category: Anatomical Structure\n",
            "  Subject: Patient\n",
            "  Temporality: Current\n",
            "  Negation Probability: N/A\n",
            "\n",
            "2 - Output the JSON object:\n",
            "\n",
            "{\n",
            "  \"Entity\": [\n",
            "    {\n",
            "      \"Name\": \"17-year-old female\",\n",
            "      \"Category\": \"Demographic Entity\",\n",
            "      \"Subject\": \"Patient\",\n",
            "      \"Temporality\": \"Current\",\n",
            "      \"Negation Probability\": \"N/A\"\n",
            "    },\n",
            "    {\n",
            "      \"Name\": \"foreign body\",\n",
            "      \"Category\": \"Anatomical Structure\",\n",
            "      \"Subject\": \"Patient\",\n",
            "      \"Temporality\": \"Current\",\n",
            "      \"Negation Probability\": \"N/A\"\n",
            "    },\n",
            "    {\n",
            "      \"Name\": \"airway compromise\",\n",
            "      \"Category\": \"Disease/Problem\",\n",
            "      \"Subject\": \"Patient\",\n",
            "      \"Temporality\": \"Current\",\n",
            "      \"Negation Probability\": \"N/A\"\n",
            "    },\n",
            "    {\n",
            "      \"Name\": \"operating room\",\n",
            "      \"Category\": \"Procedures\",\n",
            "      \"Subject\": \"Patient\",\n",
            "      \"Temporality\": \"Current\",\n",
            "      \"Negation Probability\": \"N/A\"\n",
            "    },\n",
            "    {\n",
            "      \"Name\": \"intubated\",\n",
            "      \"Category\": \"Procedures\",\n",
            "      \"Subject\": \"Patient\",\n",
            "      \"Temporality\": \"Current\",\n",
            "      \"Negation Probability\": \"N/A\"\n",
            "    },\n",
            "    {\n",
            "      \"Name\": \"fishbone\",\n",
            "      \"Category\": \"Anatomical Structure\",\n",
            "      \"Subject\": \"Patient\",\n",
            "      \"Temporality\": \"Current\",\n",
            "      \"Negation Probability\": \"N/A\"\n",
            "    }\n",
            "  ]\n",
            "}\n",
            "\n",
            "3 - Convert the JSON object to FHIR JSON:\n",
            "\n",
            "{\n",
            "  \"resourceType\": \"Observation\",\n",
            "  \"subject\": {\n",
            "    \"reference\": \"Patient/12345\"\n",
            "  },\n",
            "  \"code\": {\n",
            "    \"coding\": [\n",
            "      {\n",
            "        \"system\": \"http://snomed.info/sct\",\n",
            "        \"code\": \"195967001\",\n",
            "        \"display\": \"Airway compromise\"\n",
            "      }\n",
            "    ]\n",
            "  },\n",
            "  \"valueString\": \"17-year-old female with foreign body, airway compromise, and fishbone\",\n",
            "  \"effectiveDateTime\": \"2022-01-01T00:00:00Z\",\n",
            "  \"status\": \"final\",\n",
            "  \"category\": [\n",
            "    {\n",
            "      \"coding\": [\n",
            "        {\n",
            "          \"system\": \"http://terminology.hl7.org/CodeSystem/observation-category\",\n",
            "          \"code\": \"procedure\",\n",
            "          \"display\": \"Procedure\"\n",
            "        }\n",
            "      ]\n",
            "    }\n",
            "  ],\n",
            "  \"component\": [\n",
            "    {\n",
            "      \"code\": {\n",
            "        \"coding\": [\n",
            "          {\n",
            "            \"system\": \"http://snomed.info/sct\",\n",
            "            \"code\": \"425391005\",\n",
            "            \"display\": \"Intubation\"\n",
            "          }\n",
            "        ]\n",
            "      },\n",
            "      \"valueString\": \"Intubated\"\n",
            "    },\n",
            "    {\n",
            "      \"code\": {\n",
            "        \"coding\": [\n",
            "          {\n",
            "            \"system\": \"http://snomed.info/sct\",\n",
            "            \"code\": \"261179002\",\n",
            "            \"display\": \"Foreign body\"\n",
            "          }\n",
            "        ]\n",
            "      },\n",
            "      \"valueString\": \"Foreign body\"\n",
            "    },\n",
            "    {\n",
            "      \"code\": {\n",
            "        \"coding\": [\n",
            "          {\n",
            "            \"system\": \"http://snomed.info/sct\",\n",
            "            \"code\": \"261665006\",\n",
            "            \"display\": \"Fishbone\"\n",
            "          }\n",
            "        ]\n",
            "      },\n",
            "      \"valueString\": \"Fishbone\"\n",
            "    }\n",
            "  ]\n",
            "}\n"
          ]
        }
      ],
      "source": [
        "temperature = 0.  # To make the output more deterministic\n",
        "assistant_response = get_completion(messages, completions_model, temperature)\n",
        "print(assistant_response)"
      ]
    },
    {
      "cell_type": "markdown",
      "metadata": {
        "id": "C6fkqOao4wex"
      },
      "source": [
        "# Use Case #2: Write SOAP Notes from Patient-Clinician Conversation"
      ]
    },
    {
      "cell_type": "code",
      "execution_count": null,
      "metadata": {
        "id": "wCbF7k2-5aki"
      },
      "outputs": [],
      "source": [
        "# Set the context\n",
        "\n",
        "system_message = f\"\"\"\n",
        "You are a Healthcare AI Assistant helping to write SOAP Notes from the conversation text.\n",
        "\"\"\""
      ]
    },
    {
      "cell_type": "code",
      "execution_count": null,
      "metadata": {
        "id": "BaVugQvb4cUs"
      },
      "outputs": [],
      "source": [
        "# Input Data\n",
        "\n",
        "conversation_1 = f\"\"\"\n",
        "Hi, how's it going?    I'm not feeling well today. I have some abdominal pain.     I'm sorry to hear that.  Can you tell me a little bit about that? Yes, I have had some pain for the last two weeks, in the mid abdomen, going to the lower abdomen. Have you had any nausea or vomiting or diarrhea? Yes, I've had some diarrhea. Anybody else at home that sick? Well, my husband and my son are also sick with some diarrhea and abdominal pain. Do you have any fevers? No, I don't have any fevers or chills. OK let's take a look and examine you.\n",
        "Well, I think you might have some gastroenteritis,  And infection of the abdomen just caused by food poisoning. I think if you drink plenty of water, and stick to a brat diet, it should pass. However, if it still lingers after several days, I think we need to run some tests. How does that sound? Thank you doctor, that sounds like a plan .\n",
        "\"\"\""
      ]
    },
    {
      "cell_type": "code",
      "execution_count": null,
      "metadata": {
        "id": "H12D7z6X5SCO"
      },
      "outputs": [],
      "source": [
        "prompt = f\"\"\"\n",
        "Perform the following actions. Lets think step by step and use the guidance provided. Take your time and try to answer accurately.\n",
        "1 - Create SOAP Note from Patient-docto conversation\n",
        "text: {conversation_1}\n",
        "\"\"\"\n",
        "messages =  [\n",
        "{'role':'system',\n",
        " 'content': system_message},\n",
        "{'role':'user',\n",
        " 'content':prompt},\n",
        "]"
      ]
    },
    {
      "cell_type": "code",
      "execution_count": null,
      "metadata": {
        "colab": {
          "base_uri": "https://localhost:8080/"
        },
        "id": "8gwdopvQ5HPD",
        "outputId": "54c1c04c-70b7-4868-ffa4-44214e813749"
      },
      "outputs": [
        {
          "name": "stdout",
          "output_type": "stream",
          "text": [
            "Subjective:\n",
            "- Chief complaint: Abdominal pain and diarrhea for the last two weeks\n",
            "- Location: Mid abdomen, going to the lower abdomen\n",
            "- Associated symptoms: Diarrhea\n",
            "- Family members affected: Husband and son also experiencing diarrhea and abdominal pain\n",
            "- No fevers or chills\n",
            "\n",
            "Objective:\n",
            "- Physical examination: Abdominal examination performed\n",
            "\n",
            "Assessment:\n",
            "- Possible gastroenteritis, likely due to food poisoning\n",
            "\n",
            "Plan:\n",
            "- Drink plenty of water\n",
            "- Follow a BRAT diet (bananas, rice, applesauce, toast)\n",
            "- If symptoms persist after several days, consider running tests\n"
          ]
        }
      ],
      "source": [
        "temperature = 0.2  # Allow for little creativity\n",
        "assistant_response = get_completion(messages, completions_model, temperature)\n",
        "print(assistant_response)"
      ]
    },
    {
      "cell_type": "markdown",
      "metadata": {
        "id": "B7PANH9YvWv4"
      },
      "source": [
        "# The reason for this SOAP notes"
      ]
    },
    {
      "cell_type": "markdown",
      "metadata": {
        "id": "RMUKtQjixNxl"
      },
      "source": [
        "# Use Case #2A: Write a after-visit summary for the patient"
      ]
    },
    {
      "cell_type": "code",
      "execution_count": null,
      "metadata": {
        "id": "tUiDFS_txWHm"
      },
      "outputs": [],
      "source": [
        "# Set the context\n",
        "\n",
        "system_message = f\"\"\"\n",
        "You are a Healthcare AI Assistant helping to write patient communication.\n",
        "\"\"\""
      ]
    },
    {
      "cell_type": "code",
      "execution_count": null,
      "metadata": {
        "id": "puX1pYjHxir9"
      },
      "outputs": [],
      "source": [
        "prompt = f\"\"\"\n",
        "Perform the following actions. Lets think step by step and use the guidance provided. Take your time and try to answer accurately.\n",
        "1 - Write a after-visit summary and follow up email for the patient. Write it in a format so that the summary could be emailed to patient. Details on escalation.\n",
        "text: {conversation_1}\n",
        "\"\"\"\n",
        "messages =  [\n",
        "{'role':'system',\n",
        " 'content': system_message},\n",
        "{'role':'user',\n",
        " 'content':prompt},\n",
        "]"
      ]
    },
    {
      "cell_type": "code",
      "execution_count": null,
      "metadata": {
        "colab": {
          "base_uri": "https://localhost:8080/"
        },
        "id": "BMj_O6JPxyaT",
        "outputId": "3f842631-cfc7-4309-ee79-644734a84de3"
      },
      "outputs": [
        {
          "name": "stdout",
          "output_type": "stream",
          "text": [
            "Subject: After-Visit Summary - [Patient Name]\n",
            "\n",
            "Dear [Patient Name],\n",
            "\n",
            "I hope this email finds you well. I wanted to provide you with a summary of your recent visit to our clinic. During your visit, you mentioned experiencing abdominal pain for the last two weeks, along with diarrhea. Your husband and son have also been experiencing similar symptoms.\n",
            "\n",
            "After examining you, I believe that you might have gastroenteritis, which is an infection of the abdomen likely caused by food poisoning. As we discussed, I recommend the following steps to help alleviate your symptoms:\n",
            "\n",
            "1. Drink plenty of water to stay hydrated.\n",
            "2. Follow a BRAT diet (Bananas, Rice, Applesauce, and Toast) to help manage your diarrhea and abdominal pain.\n",
            "\n",
            "If your symptoms persist or worsen after several days, please contact our clinic to schedule a follow-up appointment. We may need to run additional tests to determine the cause of your symptoms.\n",
            "\n",
            "Please don't hesitate to reach out if you have any questions or concerns. We are here to support you and ensure that you receive the best possible care.\n",
            "\n",
            "Wishing you a speedy recovery!\n",
            "\n",
            "Best regards,\n",
            "\n",
            "[Your Name]\n",
            "[Your Title]\n",
            "[Your Clinic Name]\n",
            "[Contact Information]\n"
          ]
        }
      ],
      "source": [
        "temperature = 0.4  # Allow for little creativity\n",
        "assistant_response = get_completion(messages, completions_model, temperature)\n",
        "print(assistant_response)"
      ]
    },
    {
      "cell_type": "markdown",
      "metadata": {
        "id": "uYr1jiiT11Cy"
      },
      "source": [
        "# Use Case # 2B Improving Clinician's Performance"
      ]
    },
    {
      "cell_type": "code",
      "execution_count": null,
      "metadata": {
        "id": "qb0cuOLt2CcV"
      },
      "outputs": [],
      "source": [
        "# Set the context\n",
        "\n",
        "system_message = f\"\"\"\n",
        "You are a Healthcare AI Assistant helping to improve clincian's performance.\n",
        "\"\"\""
      ]
    },
    {
      "cell_type": "code",
      "execution_count": null,
      "metadata": {
        "id": "HKA_u5rd2Ioy"
      },
      "outputs": [],
      "source": [
        "prompt = f\"\"\"\n",
        "Perform the following actions. Lets think step by step and use the guidance provided. Take your time and try to answer accurately.\n",
        "1 - Write an assessment of clincian's performance in this encounter and provide suggestions on how to improve for the future?\n",
        "text: {conversation_1}\n",
        "\"\"\"\n",
        "messages =  [\n",
        "{'role':'system',\n",
        " 'content': system_message},\n",
        "{'role':'user',\n",
        " 'content':prompt},\n",
        "]"
      ]
    },
    {
      "cell_type": "code",
      "execution_count": null,
      "metadata": {
        "colab": {
          "base_uri": "https://localhost:8080/"
        },
        "id": "IEF6ZjGy2oXS",
        "outputId": "692964b9-1bbf-49d8-a1cd-7423a3a969e7"
      },
      "outputs": [
        {
          "name": "stdout",
          "output_type": "stream",
          "text": [
            "Assessment of Clinician's Performance:\n",
            "\n",
            "Strengths:\n",
            "1. The clinician started the conversation in a friendly manner, asking the patient how they are doing.\n",
            "2. The clinician asked relevant questions to gather more information about the patient's symptoms, such as the duration and location of the pain, presence of nausea, vomiting, diarrhea, and fever, and if other family members are experiencing similar symptoms.\n",
            "3. The clinician performed a physical examination to further assess the patient's condition.\n",
            "4. The clinician provided a possible diagnosis and suggested a course of action, including hydration, dietary changes, and follow-up if symptoms persist.\n",
            "\n",
            "Areas for Improvement:\n",
            "1. The clinician could have asked more probing questions to better understand the severity and frequency of the symptoms, such as the number of diarrheal episodes per day, the presence of blood or mucus in the stool, and any recent changes in diet or travel history.\n",
            "2. The clinician could have shown more empathy and active listening by acknowledging the patient's discomfort and validating their concerns.\n",
            "3. The clinician could have provided more detailed information on the BRAT diet (Bananas, Rice, Applesauce, Toast) and explained why it is recommended for patients with gastroenteritis.\n",
            "4. The clinician could have discussed potential over-the-counter medications to help alleviate symptoms, such as anti-diarrheal medications or oral rehydration solutions, if appropriate.\n",
            "\n",
            "Suggestions for Future Encounters:\n",
            "1. Ask more in-depth questions to gather a comprehensive understanding of the patient's symptoms and history.\n",
            "2. Show empathy and active listening by acknowledging the patient's feelings and concerns.\n",
            "3. Provide clear and detailed explanations of recommended treatments and lifestyle changes.\n",
            "4. Discuss potential over-the-counter medications or other supportive care options to help manage symptoms.\n"
          ]
        }
      ],
      "source": [
        "temperature = 0.4  # Allow for little creativity\n",
        "assistant_response = get_completion(messages, completions_model, temperature)\n",
        "print(assistant_response)"
      ]
    },
    {
      "cell_type": "markdown",
      "metadata": {
        "id": "QgXMjT4I3Tav"
      },
      "source": [
        "# Use Case 2C - Helping with any prior authorization"
      ]
    },
    {
      "cell_type": "code",
      "execution_count": null,
      "metadata": {
        "id": "a7VflFlQ3l_2"
      },
      "outputs": [],
      "source": [
        "# Set the context\n",
        "\n",
        "system_message = f\"\"\"\n",
        "You are a Healthcare AI Assistant helping with prior authorization.\n",
        "\"\"\""
      ]
    },
    {
      "cell_type": "code",
      "execution_count": null,
      "metadata": {
        "id": "i9cH7mLF3zpf"
      },
      "outputs": [],
      "source": [
        "prompt = f\"\"\"\n",
        "Perform the following actions. Lets think step by step and use the guidance provided. Take your time and try to answer accurately.\n",
        "1 - Assess if prior authoirization is required for anything clinician ordered. If we need a prior authorization, write a brief justification.\n",
        "text: {conversation_1}\n",
        "\"\"\"\n",
        "messages =  [\n",
        "{'role':'system',\n",
        " 'content': system_message},\n",
        "{'role':'user',\n",
        " 'content':prompt},\n",
        "]"
      ]
    },
    {
      "cell_type": "code",
      "execution_count": null,
      "metadata": {
        "colab": {
          "base_uri": "https://localhost:8080/"
        },
        "id": "Tq3F5sAR38Hj",
        "outputId": "af7e22c8-50a5-4c98-c68b-922f22361a37"
      },
      "outputs": [
        {
          "name": "stdout",
          "output_type": "stream",
          "text": [
            "Based on the provided text, the clinician has not ordered any medications, procedures, or tests that would require prior authorization at this time. The current recommendation is for the patient to drink plenty of water and follow a brat diet. If the patient's condition does not improve after several days, the clinician may consider ordering tests, which may or may not require prior authorization depending on the specific tests ordered.\n"
          ]
        }
      ],
      "source": [
        "temperature = 0.4  # Allow for little creativity\n",
        "assistant_response = get_completion(messages, completions_model, temperature)\n",
        "print(assistant_response)"
      ]
    },
    {
      "cell_type": "markdown",
      "metadata": {
        "id": "pvsoWBcG6j9c"
      },
      "source": [
        "# Use Case 2D - create HL7 FHIR Resources in JSON format, from the conversation summary"
      ]
    },
    {
      "cell_type": "code",
      "execution_count": null,
      "metadata": {
        "id": "AV5XkJI-62YI"
      },
      "outputs": [],
      "source": [
        "# Set the context\n",
        "\n",
        "system_message = f\"\"\"\n",
        "You are a Healthcare AI Assistant helping with Data Processing.\n",
        "\"\"\""
      ]
    },
    {
      "cell_type": "code",
      "execution_count": null,
      "metadata": {
        "id": "eupfhLnf7AQW"
      },
      "outputs": [],
      "source": [
        "prompt = f\"\"\"\n",
        "Perform the following actions. Lets think step by step and use the guidance provided. Take your time and try to answer accurately.\n",
        "1 - Create appropriate HL7 FHIR resources for the clincian order/tests.\n",
        "text: {conversation_1}\n",
        "\"\"\"\n",
        "messages =  [\n",
        "{'role':'system',\n",
        " 'content': system_message},\n",
        "{'role':'user',\n",
        " 'content':prompt},\n",
        "]"
      ]
    },
    {
      "cell_type": "code",
      "execution_count": null,
      "metadata": {
        "colab": {
          "base_uri": "https://localhost:8080/"
        },
        "id": "mAGBEjPr7SSu",
        "outputId": "15af04d0-def3-42fc-a429-c12d10688456"
      },
      "outputs": [
        {
          "name": "stdout",
          "output_type": "stream",
          "text": [
            "To create appropriate HL7 FHIR resources for the clinician order/tests, we will first identify the relevant information from the text and then create the necessary resources.\n",
            "\n",
            "Relevant information:\n",
            "- Patient: Female with abdominal pain, diarrhea, no fevers or chills\n",
            "- Family members: Husband and son also sick with diarrhea and abdominal pain\n",
            "- Possible diagnosis: Gastroenteritis\n",
            "- Suggested treatment: Drink plenty of water, stick to a brat diet\n",
            "- Potential tests: If symptoms persist after several days\n",
            "\n",
            "HL7 FHIR resources:\n",
            "\n",
            "1. Patient resource:\n",
            "{\n",
            "  \"resourceType\": \"Patient\",\n",
            "  \"id\": \"example\",\n",
            "  \"text\": {\n",
            "    \"status\": \"generated\",\n",
            "    \"div\": \"<div xmlns=\\\"http://www.w3.org/1999/xhtml\\\">Female patient with abdominal pain and diarrhea</div>\"\n",
            "  },\n",
            "  \"gender\": \"female\"\n",
            "}\n",
            "\n",
            "2. Condition resource:\n",
            "{\n",
            "  \"resourceType\": \"Condition\",\n",
            "  \"id\": \"example\",\n",
            "  \"text\": {\n",
            "    \"status\": \"generated\",\n",
            "    \"div\": \"<div xmlns=\\\"http://www.w3.org/1999/xhtml\\\">Possible gastroenteritis</div>\"\n",
            "  },\n",
            "  \"subject\": {\n",
            "    \"reference\": \"Patient/example\"\n",
            "  },\n",
            "  \"code\": {\n",
            "    \"coding\": [\n",
            "      {\n",
            "        \"system\": \"http://snomed.info/sct\",\n",
            "        \"code\": \"55822004\",\n",
            "        \"display\": \"Gastroenteritis\"\n",
            "      }\n",
            "    ]\n",
            "  }\n",
            "}\n",
            "\n",
            "3. CarePlan resource:\n",
            "{\n",
            "  \"resourceType\": \"CarePlan\",\n",
            "  \"id\": \"example\",\n",
            "  \"text\": {\n",
            "    \"status\": \"generated\",\n",
            "    \"div\": \"<div xmlns=\\\"http://www.w3.org/1999/xhtml\\\">Drink plenty of water and stick to a brat diet</div>\"\n",
            "  },\n",
            "  \"subject\": {\n",
            "    \"reference\": \"Patient/example\"\n",
            "  },\n",
            "  \"activity\": [\n",
            "    {\n",
            "      \"detail\": {\n",
            "        \"code\": {\n",
            "          \"coding\": [\n",
            "            {\n",
            "              \"system\": \"http://snomed.info/sct\",\n",
            "              \"code\": \"226234005\",\n",
            "              \"display\": \"Drink plenty of water\"\n",
            "            }\n",
            "          ]\n",
            "        },\n",
            "        \"status\": \"not-started\"\n",
            "      }\n",
            "    },\n",
            "    {\n",
            "      \"detail\": {\n",
            "        \"code\": {\n",
            "          \"coding\": [\n",
            "            {\n",
            "              \"system\": \"http://snomed.info/sct\",\n",
            "              \"code\": \"439021000124105\",\n",
            "              \"display\": \"Follow brat diet\"\n",
            "            }\n",
            "          ]\n",
            "        },\n",
            "        \"status\": \"not-started\"\n",
            "      }\n",
            "    }\n",
            "  ]\n",
            "}\n",
            "\n",
            "4. ServiceRequest resource (for potential tests):\n",
            "{\n",
            "  \"resourceType\": \"ServiceRequest\",\n",
            "  \"id\": \"example\",\n",
            "  \"text\": {\n",
            "    \"status\": \"generated\",\n",
            "    \"div\": \"<div xmlns=\\\"http://www.w3.org/1999/xhtml\\\">Run tests if symptoms persist after several days</div>\"\n",
            "  },\n",
            "  \"subject\": {\n",
            "    \"reference\": \"Patient/example\"\n",
            "  },\n",
            "  \"code\": {\n",
            "    \"coding\": [\n",
            "      {\n",
            "        \"system\": \"http://snomed.info/sct\",\n",
            "        \"code\": \"108252007\",\n",
            "        \"display\": \"Laboratory test\"\n",
            "      }\n",
            "    ]\n",
            "  },\n",
            "  \"status\": \"draft\"\n",
            "}\n"
          ]
        }
      ],
      "source": [
        "temperature = 0.1\n",
        "assistant_response = get_completion(messages, completions_model, temperature)\n",
        "print(assistant_response)"
      ]
    },
    {
      "cell_type": "markdown",
      "metadata": {
        "id": "ArA6BWod91Nh"
      },
      "source": [
        "# Use Case # 3: Biomedical Research Assistant for Clincians\n",
        "\n",
        "Create a Research Assistant Bot"
      ]
    },
    {
      "cell_type": "code",
      "execution_count": null,
      "metadata": {
        "id": "vkkAgH3ibhOV"
      },
      "outputs": [],
      "source": [
        "# Helper function to call chat model\n",
        "\n",
        "def get_completion_from_messages(messages,\n",
        "                                 model=\"gpt-4\",\n",
        "                                 temperature=0,\n",
        "                                 max_tokens=1024):\n",
        "    response = openai.ChatCompletion.create(\n",
        "        model=model,\n",
        "        messages=messages,\n",
        "        temperature=temperature, # this is the degree of randomness of the model's output\n",
        "        max_tokens=max_tokens, # the maximum number of tokens the model can ouptut\n",
        "    )\n",
        "    return response.choices[0].message[\"content\"]"
      ]
    },
    {
      "cell_type": "code",
      "execution_count": null,
      "metadata": {
        "id": "V-f4hDCc-H2J"
      },
      "outputs": [],
      "source": [
        "abstract = \"\"\"\n",
        "\n",
        "Title: Sepsis-Associated Acute Kidney Injury\n",
        "link: https://pubmed.ncbi.nlm.nih.gov/33752856/\n",
        "\n",
        "abstract: Sepsis-associated acute kidney injury (S-AKI) is a frequent complication of the critically ill patient and is associated with unacceptable morbidity and mortality.\\\n",
        "Prevention of S-AKI is difficult because by the time patients seek medical attention, most have already developed acute kidney injury. Thus, early recognition is crucial \\\n",
        "to provide supportive treatment and limit further insults. Current diagnostic criteria for acute kidney injury has limited early detection; however, novel biomarkers \\\n",
        "of kidney stress and damage have been recently validated for risk prediction and early diagnosis of acute kidney injury in the setting of sepsis. Recent evidence shows \\\n",
        "that microvascular dysfunction, inflammation, and metabolic reprogramming are 3 fundamental mechanisms that may play a role in the development of S-AKI. \\\n",
        "However, more mechanistic studies are needed to better understand the convoluted pathophysiology of S-AKI and to translate these findings into potential treatment strategies \\\n",
        "and add to the promising pharmacologic approaches being developed and tested in clinical trials.\n",
        "\"\"\""
      ]
    },
    {
      "cell_type": "code",
      "execution_count": null,
      "metadata": {
        "id": "3lhGAoah-N3L"
      },
      "outputs": [],
      "source": [
        "# Set the context\n",
        "system_message = f\"\"\"\n",
        "You are an Healthcare Research AI Assistant. Summarize and explain research papers.\n",
        "\"\"\"\n",
        "\n",
        "user_message_1 = f\"\"\"\n",
        "summarize the paper. explain why this paper is important. suggest other relevant paper to read. suggest a potential research investigation.\n",
        "\"\"\""
      ]
    },
    {
      "cell_type": "code",
      "execution_count": null,
      "metadata": {
        "colab": {
          "base_uri": "https://localhost:8080/"
        },
        "id": "D0JsDyHTfDtz",
        "outputId": "5a6994c9-9ce9-4029-e635-a720fa803f11"
      },
      "outputs": [
        {
          "name": "stdout",
          "output_type": "stream",
          "text": [
            "Summary:\n",
            "The paper titled \"Sepsis-Associated Acute Kidney Injury\" discusses the high prevalence of S-AKI in critically ill patients and its association with significant morbidity and mortality. The authors emphasize the importance of early recognition and supportive treatment to prevent further complications. They also highlight the limitations of current diagnostic criteria for AKI and the potential of novel biomarkers for early detection and risk prediction. The paper explores the role of microvascular dysfunction, inflammation, and metabolic reprogramming in the development of S-AKI and calls for more mechanistic studies to better understand its pathophysiology and develop effective treatment strategies.\n",
            "\n",
            "Importance:\n",
            "This paper is important because it addresses a critical complication in sepsis patients, which has a significant impact on morbidity and mortality. It highlights the need for early detection and intervention, as well as the potential of novel biomarkers to improve diagnosis and risk prediction. Furthermore, it emphasizes the need for a better understanding of the underlying mechanisms of S-AKI to develop effective treatment strategies.\n",
            "\n",
            "Suggested relevant papers:\n",
            "1. Hoste, E. A., Bagshaw, S. M., Bellomo, R., Cely, C. M., Colman, R., Cruz, D. N., ... & Kellum, J. A. (2015). Epidemiology of acute kidney injury in critically ill patients: the multinational AKI-EPI study. Intensive care medicine, 41(8), 1411-1423.\n",
            "2. Gomez, H., Ince, C., De Backer, D., Pickkers, P., Payen, D., Hotchkiss, J., & Kellum, J. A. (2014). A unified theory of sepsis-induced acute kidney injury: inflammation, microcirculatory dysfunction, bioenergetics, and the tubular cell adaptation to injury. Shock, 41(1), 3-11.\n",
            "\n",
            "Potential research investigation:\n",
            "A potential research investigation could involve the development and validation of a novel panel of biomarkers for early detection and risk prediction of S-AKI in sepsis patients. This research could help improve diagnostic accuracy, guide clinical decision-making, and potentially lead to the development of targeted therapies to prevent or mitigate the progression of S-AKI in sepsis patients.\n"
          ]
        }
      ],
      "source": [
        "messages =  [\n",
        "{'role':'system',\n",
        " 'content': system_message},\n",
        "{'role':'user',\n",
        " 'content': user_message_1},\n",
        "{'role':'assistant',\n",
        " 'content': f\"Relevant research information: {abstract}\" },\n",
        "]\n",
        "final_response = get_completion_from_messages(messages)\n",
        "print(final_response)"
      ]
    },
    {
      "cell_type": "code",
      "execution_count": null,
      "metadata": {
        "id": "XlJwJFIH-cQH"
      },
      "outputs": [],
      "source": [
        "prompt = f\"\"\"\n",
        "Your task is to generate a short summary of a medical article \\\n",
        "abstract from pubmed site.\n",
        "1 - Summarize the abstract below,in at most 20 words focusing on AKI prediction and treatment options.\n",
        "2 - List the major topics discussed in the article. Classify the topics into:\n",
        "    a. disease, b. symptom, c. procedure, d.medication.\n",
        "article:{abstract}\n",
        "\"\"\"\n",
        "messages =  [\n",
        "{'role':'system',\n",
        " 'content': system_message},\n",
        "{'role':'user',\n",
        " 'content':prompt},\n",
        "]"
      ]
    },
    {
      "cell_type": "code",
      "execution_count": null,
      "metadata": {
        "colab": {
          "base_uri": "https://localhost:8080/"
        },
        "id": "6ni-C1Us_IyW",
        "outputId": "62bcaf63-2dd5-455c-8d03-3bb9ee60c1ff"
      },
      "outputs": [
        {
          "name": "stdout",
          "output_type": "stream",
          "text": [
            "1 - Early recognition of S-AKI is crucial; novel biomarkers aid in risk prediction and early diagnosis, with potential treatment strategies being explored.\n",
            "\n",
            "2 - S-AKI complications, prevention difficulties, early recognition, current diagnostic criteria, novel biomarkers, microvascular dysfunction, inflammation, metabolic reprogramming, pathophysiology, potential treatment strategies, pharmacologic approaches, clinical trials.\n"
          ]
        }
      ],
      "source": [
        "temperature = 0.2  # Allow for little creativity\n",
        "assistant_response = get_completion(messages, completions_model, temperature)\n",
        "print(assistant_response)"
      ]
    },
    {
      "cell_type": "markdown",
      "metadata": {
        "id": "DmCCKzZ5XKxd"
      },
      "source": [
        "# Use Case # 4: Summarize a Patient's Medical Record"
      ]
    },
    {
      "cell_type": "code",
      "execution_count": null,
      "metadata": {
        "id": "KK4now1AXWiS"
      },
      "outputs": [],
      "source": [
        "clinical_text = f\"\"\"\n",
        "Plan:\n",
        "CKD (Serology): due to likely hyperfiltration syndrome (patient drinking 2 gallons of water),- improved creatinine\n",
        "-I warned the patient about hyperfiltration syndrome.  The patient is drinking way too much liquid, and may be causing worsening of his renal function, because of hyperfiltration syndrome.\n",
        "- he needs to limit his fluid intake to 2L, a bit more if he exercises and sweats\n",
        "- his blood pressure and blood sugar are decently controlled now\n",
        "\n",
        "Proteinuria:   well controlled\n",
        "- protein restriction discussed\n",
        "- on ACE inhibitor or angiotensin receptor blocker: yes\n",
        "\n",
        "Blood Pressure:  well controlled\n",
        "- low salt diet\n",
        "- current treatment plan is effective, no change in therapy Diabetes/[Synop]: stable Continue current plan. Review blood glucose monitoring. Discuss risks of poor blood glucose control. Review carbohydrate-controlled diet.\n",
        "\n",
        "Preventative: HMM  Care Gap SS  Check labs now Follow up with me in 3 months\n",
        "Cc to Medical assistant\n",
        "=============================================================  SUBJECTIVE\n",
        "\n",
        "John Smith is a male with diabetes mellitus 2, hypertension, bph, hyperlipidemia, aaa, high bmi, CAD/CABG, AF on coumadin, copd, anemia, osa, mdd, gerd, moderate chronic renal failure for month(s) who comes to see me for a follow up visit.  Patient says that he drinks about 2 gallons a day. Because his mouth is really dry.\n",
        "\n",
        "Lab Results  Component\n",
        "Value\n",
        "Date  Creatinine\n",
        "2.25 (H)\n",
        "04/11/2023  Creatinine\n",
        "2.08 (H)\n",
        "04/02/2023  Creatinine\n",
        "2.34 (H)\n",
        "04/01/2023   ROS: + frequency - urgency + dysuria - hematuria - skin changes/rash + joint pains; takes tylenol  - sinus problems - epistaxis - cough with blood + stone history; many years ago x 4, last 1969 + urinary hesitancy + nocturia: 2 times a nigth  + leg edema - little in the left leg  - NSAID use    Reviewed: medical history with no changes 5/12/2023, social history with no changes  5/12/2023 and family history with no changes 5/12/2023      PHYSICAL EXAM\n",
        "     BP Readings from Last 3 Encounters:\n",
        "05/12/23  103/55\n",
        "04/07/23  101/54\n",
        "04/02/23  132/72\n",
        "     Pulse Readings from Last 3 Encounters:\n",
        "05/12/23  80\n",
        "04/07/23  69\n",
        "04/02/23  72\n",
        "     Wt Readings from Last 3 Encounters:\n",
        "05/12/23  116.9 kg (257 lb 11.2 oz)\n",
        "04/07/23  115.7 kg (255 lb)\n",
        "04/02/23  123.8 kg (273 lb)\n",
        "     BMI Readings from Last 3 Encounters:\n",
        "05/12/23  39.18 kg/m²\n",
        "04/07/23  38.77 kg/m²\n",
        "04/02/23  41.51 kg/m²\n",
        "  General appearance - oriented to person, place, and time Chest - clear Heart - S1 and S2 normal Abdomen - soft Extremities - pedal edema: 0 +     RESULTS\n",
        "Data Reviewed:  Reviewed lab results: Renal:       Lab Results\n",
        "Component  Value  Date\n",
        "   Estimated Glomerular Filtration Rate  29 (L)  04/11/2023\n",
        "   Estimated Glomerular Filtration Rate  24 (L)  03/31/2023\n",
        "   Estimated Glomerular Filtration Rate  35 (L)  11/23/2022\n",
        "         Lab Results\n",
        "Component  Value  Date\n",
        "   Creatinine  2.25 (H)  04/11/2023\n",
        "   Creatinine  2.08 (H)  04/02/2023\n",
        "   Creatinine  2.34 (H)  04/01/2023\n",
        "   Creatinine  2.63 (H)  03/31/2023\n",
        "   Creatinine  1.94 (H)  11/23/2022\n",
        "         Lab Results\n",
        "Component  Value  Date\n",
        "   BUN  29 (H)  04/02/2023\n",
        "      Anemia:       Lab Results\n",
        "Component  Value  Date\n",
        "   Hgb  11.5 (L)  04/02/2023\n",
        "   Hgb  11.5 (L)  04/01/2023\n",
        "   Hematocrit  37.1 (L)  04/02/2023\n",
        "   Hematocrit  36.3 (L)  04/01/2023\n",
        "   MCV  90  04/02/2023\n",
        "   MCV  89  04/01/2023\n",
        "   Transferrin % saturation  37  11/23/2022\n",
        "   Transferrin % saturation  7 (L)  11/22/2016\n",
        "    Bone:       Lab Results\n",
        "Component  Value  Date\n",
        "   Calcium  8.7 (L)  03/31/2023\n",
        "         Lab Results\n",
        "Component  Value  Date\n",
        "   Phosphorus  3.5  03/31/2023\n",
        "   No results found for: PTHINTACT No results found for: VITD25    Potassium:       Lab Results\n",
        "Component  Value  Date\n",
        "   Potassium  5.0  04/11/2023\n",
        "   Potassium  4.5  04/02/2023\n",
        "   Potassium  4.2  04/01/2023\n",
        "    Protein:      Lab Results\n",
        "\"\"\""
      ]
    },
    {
      "cell_type": "code",
      "execution_count": null,
      "metadata": {
        "id": "oPfy1aJ9Xts3"
      },
      "outputs": [],
      "source": [
        "# Set the context\n",
        "system_message = f\"\"\"\n",
        "You are an Healthcare AI Assistant helping to summarize patient's situation from medical history.\n",
        "\"\"\""
      ]
    },
    {
      "cell_type": "code",
      "execution_count": null,
      "metadata": {
        "id": "PJSWc8kZX4lw"
      },
      "outputs": [],
      "source": [
        "prompt = f\"\"\"\n",
        "Your task is to generate a short summary of patient's medical record \\\n",
        "medical record:{clinical_text}\n",
        "\"\"\"\n",
        "messages =  [\n",
        "{'role':'system',\n",
        " 'content': system_message},\n",
        "{'role':'user',\n",
        " 'content':prompt},\n",
        "]"
      ]
    },
    {
      "cell_type": "code",
      "execution_count": null,
      "metadata": {
        "colab": {
          "base_uri": "https://localhost:8080/"
        },
        "id": "q1Xr-ypTX-ji",
        "outputId": "4b56e622-28d3-41ce-b34a-119357b21172"
      },
      "outputs": [
        {
          "name": "stdout",
          "output_type": "stream",
          "text": [
            "Summary: John Smith is a male patient with a history of diabetes mellitus type 2, hypertension, BPH, hyperlipidemia, AAA, high BMI, CAD/CABG, AF on Coumadin, COPD, anemia, OSA, MDD, GERD, and moderate chronic renal failure. He reports drinking 2 gallons of water daily due to dry mouth. Recent lab results show improved creatinine levels, well-controlled proteinuria, and stable blood pressure and blood sugar. The patient has been advised to limit fluid intake to 2L per day to prevent hyperfiltration syndrome. He is on an ACE inhibitor or angiotensin receptor blocker, and his current treatment plan is effective. The patient will follow up in 3 months.\n"
          ]
        }
      ],
      "source": [
        "temperature = 0.2  # Allow for little creativity\n",
        "assistant_response = get_completion(messages, completions_model, temperature)\n",
        "print(assistant_response)"
      ]
    },
    {
      "cell_type": "markdown",
      "metadata": {
        "id": "fIAclu5e5ynC"
      },
      "source": [
        "# Use Case # 5: Semantic Search and Question and Answering, TBD"
      ]
    },
    {
      "cell_type": "markdown",
      "metadata": {
        "id": "R3CKqENM6oJ9"
      },
      "source": [
        "# Use Case # 6: Patient Navigation/Co-pilot Chatbot TBD"
      ]
    },
    {
      "cell_type": "markdown",
      "metadata": {
        "id": "bdsRcs3uU2nl"
      },
      "source": [
        "# Use Case # 7: Identify Patients meeting selection criteria of clinical trials"
      ]
    },
    {
      "cell_type": "markdown",
      "metadata": {
        "id": "NMLmM1LiVi2J"
      },
      "source": [
        "# Use Case # 8 : Semantic Similarity between text snippets to minimize data redundancy and enable summarization"
      ]
    },
    {
      "cell_type": "markdown",
      "metadata": {
        "id": "u9mZgDAkDBmr"
      },
      "source": [
        "# Evaluate the LLM's answer based on \"expert\" human generated answer. Work in Progress."
      ]
    },
    {
      "cell_type": "code",
      "execution_count": null,
      "metadata": {
        "id": "op67-Sw0-Daw"
      },
      "outputs": [],
      "source": [
        "# This is a evaluation framework, I still have to work with MIMIC data to create the test.\n",
        "# Source https://github.com/openai/evals/blob/main/evals/registry/modelgraded/fact.yaml\n",
        "\n",
        "def eval_with_ideal(test_set, assistant_answer):\n",
        "\n",
        "    test_input = test_set['note']\n",
        "    test_output = test_set['entity_list']\n",
        "    llm_answer = assistant_answer\n",
        "\n",
        "    system_message = \"\"\"\\\n",
        "    You are an assistant that evaluates how well the data processing assistant \\\n",
        "    extracts entities by looking at the context that the customer service \\\n",
        "    agent is using to generate its response.\n",
        "    \"\"\"\n",
        "\n",
        "    user_message = f\"\"\"\\\n",
        "You are evaluating a submitted answer to a question based on the context \\\n",
        "that the agent uses to answer the question.\n",
        "Here is the data:\n",
        "    [BEGIN DATA]\n",
        "    ************\n",
        "    [Input]: {test_input}\n",
        "    ************\n",
        "    [Expert Output]: {test_output}\n",
        "    ************\n",
        "    [Submission]: {llm_answer}\n",
        "    ************\n",
        "    [END DATA]\n",
        "\n",
        "Compare the factual content of the submitted answer with the expert answer. Ignore any differences in style, grammar, or punctuation.\n",
        "    The submitted answer may either be a subset or superset of the expert answer, or it may conflict with it. Determine which case applies. Answer the question by selecting one of the following options:\n",
        "    (A) The submitted answer is a subset of the expert answer and is fully consistent with it.\n",
        "    (B) The submitted answer is a superset of the expert answer and is fully consistent with it.\n",
        "    (C) The submitted answer contains all the same details as the expert answer.\n",
        "    (D) There is a disagreement between the submitted answer and the expert answer.\n",
        "    (E) The answers differ, but these differences don't matter from the perspective of factuality.\n",
        "  choice_strings: ABCDE\n",
        "\"\"\"\n",
        "\n",
        "    messages = [\n",
        "        {'role': 'system', 'content': system_message},\n",
        "        {'role': 'user', 'content': user_message}\n",
        "    ]\n",
        "\n",
        "    response = get_completion(messages, completions_model, temperature=0, max_tokens=4096)\n",
        "    return response"
      ]
    },
    {
      "cell_type": "markdown",
      "metadata": {
        "id": "sZDszchTeb4U"
      },
      "source": []
    }
  ],
  "metadata": {
    "accelerator": "GPU",
    "colab": {
      "machine_shape": "hm",
      "provenance": [],
      "include_colab_link": true
    },
    "kernelspec": {
      "display_name": "Python 3",
      "name": "python3"
    },
    "language_info": {
      "name": "python"
    }
  },
  "nbformat": 4,
  "nbformat_minor": 0
}